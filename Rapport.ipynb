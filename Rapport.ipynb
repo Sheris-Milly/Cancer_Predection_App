{
 "cells": [
  {
   "cell_type": "markdown",
   "metadata": {},
   "source": [
    "# ***Rapport***\n",
    "\n",
    "\n",
    "---\n",
    "---\n",
    "\n",
    "\n",
    "## Projet : **Application de prédiction du cancer du sein**\n",
    "\n",
    "### Réalisé par :\n",
    "- **ARAGOU Wassef**\n",
    "- **AGJOUD Imad**\n",
    "- **MALIH Mouad**\n",
    "\n",
    "### Encadré par :\n",
    "- **MR. LAMRANI Youssef**"
   ]
  },
  {
   "cell_type": "markdown",
   "metadata": {},
   "source": [
    "---\n",
    "---\n",
    "# *Remerciements*\n",
    "\n",
    "Nous tenons à exprimer notre profonde gratitude à **MR. LAMRANI Youssef**, notre encadrant, pour sa précieuse supervision, ses conseils avisés et son soutien tout au long de la réalisation de ce projet. "
   ]
  },
  {
   "cell_type": "markdown",
   "metadata": {},
   "source": [
    "---\n",
    "---\n",
    "# *Table des Matières*\n",
    "\n",
    "1. [Introduction](#introduction)  \n",
    "2. [Contexte du Projet](#contexte-du-projet)  \n",
    "3. [Objectifs](#objectifs)  \n",
    "4. [Méthodologie](#methodologie)  \n",
    "    1. [Collecte des données](#collecte-des-donnees)  \n",
    "    2. [Pré-traitement des données](#pre-traitement-des-donnees)  \n",
    "        1. [Tumor type](#tumor-type)\n",
    "        2. [Stage cancer and treatment cost](#stage-cancer-and-treatment-cost)\n",
    "    3. [Analyse des données](#analyse-des-donnees)  \n",
    "        1. [Tumor type](#tumor-type)\n",
    "        2. [Stage cancer and treatment cost](#stage-cancer-and-treatment-cost)\n",
    "    4. [Modélisation](#modelisation)  \n",
    "5. [Résultats et Analyse](#resultats-et-analyse)  \n",
    "6. [Conclusion](#conclusion) \n"
   ]
  },
  {
   "cell_type": "markdown",
   "metadata": {},
   "source": [
    "---\n",
    "---\n",
    "# Introduction\n",
    "\n",
    "Le cancer du sein est l'un des cancers les plus courants chez les femmes à travers le monde. Il représente un enjeu majeur de santé publique, avec des millions de nouveaux cas diagnostiqués chaque année. La détection précoce est essentielle pour améliorer les chances de survie et réduire la mortalité. Cependant, les méthodes traditionnelles de dépistage, telles que la mammographie et la biopsie, bien que fiables, peuvent être invasives, coûteuses, et parfois inaccessibles pour certaines populations.\n",
    "\n",
    "Aujourd'hui, grâce aux progrès de l'intelligence artificielle (IA) et du machine learning, il est possible de développer des outils prédictifs pour aider à la détection précoce et à la gestion du cancer du sein. Ces technologies permettent d'analyser de vastes ensembles de données pour fournir des informations précises et rapides aux professionnels de santé, améliorant ainsi la qualité des diagnostics et des traitements.\n",
    "\n",
    "Le présent projet s'inscrit dans cette dynamique et vise à concevoir une application de prédiction du cancer du sein. En s'appuyant sur des modèles de machine learning, cette application pourra prédire divers aspects du cancer, tels que le coût du traitement, le type de tumeur et le stade du cancer, offrant ainsi une aide précieuse pour les professionnels de la santé dans leur prise de décision.\n",
    "\n",
    "---\n",
    "---\n",
    "\n",
    "# Contexte du Projet\n",
    "\n",
    "Le cancer du sein reste un problème majeur dans le domaine médical, malgré les nombreuses avancées scientifiques et technologiques. En particulier, la difficulté de diagnostic rapide et non invasif limite parfois les options de traitement, surtout dans les zones où les infrastructures médicales sont limitées. Les méthodes traditionnelles de diagnostic, comme les mammographies et les biopsies, sont efficaces mais comportent des inconvénients, notamment leur coût élevé, leur caractère invasif, et le temps nécessaire pour obtenir des résultats.\n",
    "\n",
    "Dans ce contexte, l'usage des techniques d'intelligence artificielle et de machine learning offre de nouvelles opportunités pour améliorer les outils de diagnostic et de prédiction. En exploitant des algorithmes capables de traiter d'énormes quantités de données, il est possible de développer des systèmes prédictifs fiables et efficaces qui non seulement améliorent la rapidité et la précision des diagnostics, mais qui sont également accessibles à plus grande échelle.\n",
    "\n",
    "Le projet \"Breast Cancer Prediction App\" a été conçu dans cette optique, avec l'ambition de fournir un outil d'aide à la décision qui permet de prédire, à partir de données cliniques, le coût du traitement, le type de tumeur et le stade du cancer. Ce projet met en œuvre des techniques avancées de machine learning pour créer un modèle performant et utile pour la communauté médicale.\n",
    "\n",
    "---\n",
    "---\n",
    "\n",
    "# Objectifs\n",
    "\n",
    "Le projet \"Application de prédiction du cancer du sein\" a pour objectif de développer plusieurs modèles prédictifs basés sur des techniques de machine learning afin de fournir des informations clés pour la gestion et le traitement du cancer du sein. Les objectifs spécifiques de ce projet sont les suivants :\n",
    "\n",
    "1. **Prédiction des coûts de traitement**  \n",
    "   Développer un modèle de régression linéaire pour estimer les coûts de traitement des patientes atteintes de cancer du sein, en utilisant des données cliniques et démographiques. Ce modèle permettra d'anticiper les frais médicaux et d'aider à la planification des ressources.\n",
    "\n",
    "2. **Prédiction du type de tumeur**  \n",
    "   Créer un second modèle de régression linéaire pour prédire le type de tumeur (bénigne ou maligne) en fonction des caractéristiques biologiques et cliniques des patientes. Cette information est essentielle pour orienter les stratégies de traitement.\n",
    "\n",
    "3. **Classification du stade du cancer**  \n",
    "   Utiliser un modèle de classification basé sur les forêts aléatoires (Random Forest Classifier) pour déterminer le stade du cancer chez les patientes. Ce modèle classera les patientes selon les différents stades du cancer (précoce, avancé, etc.), fournissant ainsi un soutien crucial aux médecins dans la prise de décisions thérapeutiques.\n",
    "\n",
    "Ces objectifs permettront de développer une application complète qui offrira une aide précieuse aux professionnels de santé en améliorant la précision des diagnostics et en optimisant les décisions médicales concernant le traitement du cancer du sein."
   ]
  },
  {
   "cell_type": "markdown",
   "metadata": {},
   "source": [
    "---\n",
    "---\n",
    "## Méthodologie\n",
    "\n",
    "La méthodologie adoptée dans ce projet repose sur plusieurs étapes clés qui permettent de garantir la qualité et la précision des résultats obtenus. La première étape consiste en la **collecte des données**, où des informations pertinentes sur les patientes, telles que des caractéristiques cliniques et biologiques, sont rassemblées à partir de bases de données médicales existantes. Ensuite, un **pré-traitement des données** est effectué pour nettoyer, normaliser et préparer les données pour l'analyse, en éliminant les valeurs aberrantes et en traitant les données manquantes. Une fois les données prêtes, nous procédons à une **analyse exploratoire** pour comprendre les relations et tendances sous-jacentes. Enfin, nous appliquons des modèles de **machine learning**, notamment des modèles de régression linéaire pour prédire les coûts de traitement et le type de tumeur, ainsi qu'un classificateur Random Forest pour déterminer le stade du cancer. Cette approche permet d’obtenir des résultats fiables et exploitables, facilitant ainsi la prise de décision médicale.\n"
   ]
  },
  {
   "cell_type": "markdown",
   "metadata": {},
   "source": []
  }
 ],
 "metadata": {
  "language_info": {
   "name": "python"
  }
 },
 "nbformat": 4,
 "nbformat_minor": 2
}
